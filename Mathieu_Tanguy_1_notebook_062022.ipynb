{
 "cells": [
  {
   "cell_type": "markdown",
   "id": "e23e4536",
   "metadata": {},
   "source": [
    "   # NOTEBOOK PROJET 4                                               TANGUY MATHIEU"
   ]
  },
  {
   "cell_type": "code",
   "execution_count": 1,
   "id": "7a1943f8",
   "metadata": {},
   "outputs": [],
   "source": [
    "# mise en place des librairies\n",
    "import pandas as pd\n",
    "import numpy as np\n",
    "import matplotlib.pyplot as plt\n"
   ]
  },
  {
   "cell_type": "markdown",
   "id": "9b1e377f",
   "metadata": {},
   "source": [
    "### Avant d'utiliser les 4 dossiers fournis j'ai à chaque fois procédé à un df.info() pour vérifier d'abord le type des valeurs de chaque table et s'il y avait des valeurs nulles ou non, puis un df.describe() pour vérifier s'il n'y avait pas de valeurs aberrantes."
   ]
  },
  {
   "cell_type": "markdown",
   "id": "40e87f36",
   "metadata": {},
   "source": [
    "# 1ERE PARTIE : QUESTIONS DE MARC"
   ]
  },
  {
   "cell_type": "markdown",
   "id": "bef32179",
   "metadata": {},
   "source": [
    "# Question 1: Proportion de personnes en sous nutrition"
   ]
  },
  {
   "cell_type": "code",
   "execution_count": 2,
   "id": "230b4879",
   "metadata": {},
   "outputs": [
    {
     "name": "stdout",
     "output_type": "stream",
     "text": [
      "Le nombre de personnes sous nutri en 2017 était de 535.7 millions\n",
      "La population mondiale en 2017 était de 7.55 milliards d_habitants\n",
      "La proportion de personnes en état de sous nutrition en 2017 était de 7.1 %\n"
     ]
    }
   ],
   "source": [
    "\n",
    "# Chargement du dossier sous nutrition\n",
    "sous_nutrition = pd.read_csv('sous_nutrition.csv')\n",
    "\n",
    "# Remplacement de la valeur 2016-2018 par 2017\n",
    "sous_nutrition = sous_nutrition.replace(to_replace = \"2016-2018\", value = \"2017\")\n",
    "\n",
    "# Remplacement de la valeur <0.1 par 0\n",
    "sous_nutrition['Valeur'] = sous_nutrition['Valeur'].replace(\"<0.1\",\"0\")\n",
    "\n",
    "# Changement de type pour les données 'Valeur'\n",
    "sous_nutrition['Valeur'] = sous_nutrition['Valeur'].astype(float)\n",
    "\n",
    "# Calcul de la totalité de personne sous nutri en 2017\n",
    "sous_nutrition_2017 = sous_nutrition.loc[(sous_nutrition['Année'] == '2017'), :].sum()\n",
    "print('Le nombre de personnes sous nutri en 2017 était de', sous_nutrition_2017['Valeur'], 'millions')\n",
    "\n",
    "# Chargement du dossier population\n",
    "population = pd.read_csv('population.csv')\n",
    "\n",
    "# Selection de la population pour 2017\n",
    "population_2017 = population[population['Année']==2017]\n",
    "\n",
    "# Calcul de la population mondiale en 2017\n",
    "population_monde_2017 = population_2017['Valeur'].sum()\n",
    "print('La population mondiale en 2017 était de', round(population_monde_2017/1000000,2), 'milliards d_habitants')\n",
    "\n",
    "# Calcul de la proportion de personne en sous nutrition en 2017\n",
    "proportion_monde_sous_aliment = round((sous_nutrition_2017['Valeur']*100)/(population_monde_2017/1000),2)\n",
    "print('La proportion de personnes en état de sous nutrition en 2017 était de',proportion_monde_sous_aliment, '%')"
   ]
  },
  {
   "cell_type": "markdown",
   "id": "ac168bfd",
   "metadata": {},
   "source": [
    "### On peut se représenter ceci en imaginant que c'est la population totale des Etats unis d'Amérique et de l'Indonésie réunis qui est en sous nutrition ou encore les 2/3 de l'Europe."
   ]
  },
  {
   "cell_type": "markdown",
   "id": "29def9a1",
   "metadata": {},
   "source": [
    "# Question 2: Nombre theorique de personnes qui pourraient être nourries"
   ]
  },
  {
   "cell_type": "code",
   "execution_count": 3,
   "id": "cadbab90",
   "metadata": {},
   "outputs": [
    {
     "name": "stdout",
     "output_type": "stream",
     "text": [
      "Le nombre de kcal disponible dans le monde par jour en 2017 était de 20918984627 kcal/monde/jour\n",
      "Le nombre de personnes qui pouvaient être nourries était de  8.37 milliards\n",
      "La proportion de personnes qui pourraient être nourries en fonction de la population réelle est de 110.86 %\n"
     ]
    }
   ],
   "source": [
    "\n",
    "# Chargement du dossier disponibilité alimentaire\n",
    "dispo_alim = pd.read_csv('dispo_alimentaire.csv')\n",
    "\n",
    "# Calcul de la disponibilité alimentaire par pays\n",
    "dispo_alim_pays = dispo_alim.groupby('Zone').sum()\n",
    "\n",
    "# Regroupement du tableau population et de disponibilité alimentaire\n",
    "popu_dispo_alim = pd.merge(dispo_alim_pays, population_2017, on = 'Zone')\n",
    "\n",
    "# Création de la colonne disponibilité alimentaire par pays\n",
    "popu_dispo_alim['Disponibilité alimentaire par pays'] = popu_dispo_alim['Disponibilité alimentaire (Kcal/personne/jour)'] * popu_dispo_alim['Valeur']\n",
    "\n",
    "# Calcul du nombre de kcal par jour dans le monde\n",
    "dispo_alim_kcal = round(popu_dispo_alim['Disponibilité alimentaire par pays'].sum())\n",
    "print('Le nombre de kcal disponible dans le monde par jour en 2017 était de',dispo_alim_kcal, 'kcal/monde/jour')\n",
    "\n",
    "# Calcul du nombre théorique de personnes nourries en 2017 avec une base de 2500kcal par personne par jour\n",
    "nombre_theo_personne_nourrie = dispo_alim_kcal*365/ (2500*365)\n",
    "print('Le nombre de personnes qui pouvaient être nourries était de ', round(nombre_theo_personne_nourrie/1000000,2), 'milliards')\n",
    "\n",
    "\n",
    "# Proportion de personnes qui auraient pu être nourries en 2017\n",
    "proportion_personnes_nourries_2017 = nombre_theo_personne_nourrie * 100 / population_2017['Valeur'].sum()\n",
    "print('La proportion de personnes qui pourraient être nourries en fonction de la population réelle est de',round(proportion_personnes_nourries_2017,2), '%')\n",
    "\n"
   ]
  },
  {
   "cell_type": "markdown",
   "id": "7b2db908",
   "metadata": {},
   "source": [
    "### Ceci est un chiffre sorti de son contexte puisque nous avons intégré toutes las catégories alimentaires mais il nous donne quand même une idée des capacités que nous pouvons avoir si tous les pays se mettent en commun."
   ]
  },
  {
   "cell_type": "markdown",
   "id": "cfaf4d4b",
   "metadata": {},
   "source": [
    "# Question 3: Disponibilité des produits végétaux"
   ]
  },
  {
   "cell_type": "code",
   "execution_count": 30,
   "id": "866b9d03",
   "metadata": {},
   "outputs": [
    {
     "name": "stdout",
     "output_type": "stream",
     "text": [
      "la disponibilité végétale par jour dans le monde en 2017 était de 17260764212 kcal végétale/jour/monde\n",
      "le nombre de personnes qui pouvaient être nourries en 2017 était de  6.9 milliards\n",
      "la proportion de personnes qui pourraient être nourries par les ressources vegetales est de 91.47 %\n"
     ]
    }
   ],
   "source": [
    "\n",
    "# Selection des aliments végétaux\n",
    "dispo_alim_vegetale = dispo_alim.loc[dispo_alim['Origine']  == 'vegetale']\n",
    "\n",
    "# Groupage des végétaux par pays\n",
    "dispo_alim_vegetale_pays = dispo_alim_vegetale.groupby('Zone').sum()\n",
    "\n",
    "# Groupage du tableau population 2017 avec le tableau de disponibilité végétale par pays\n",
    "popu_dispo_alim = pd.merge(dispo_alim_vegetale_pays, population_2017, on = 'Zone')\n",
    "\n",
    "# Creation de la colonne disponibilité végétale par pays \n",
    "popu_dispo_alim['Disponibilité alimentaire vegetale par pays'] = popu_dispo_alim['Disponibilité alimentaire (Kcal/personne/jour)']*popu_dispo_alim['Valeur']\n",
    "\n",
    "# Calcul de la disponibilité végétale dansle  monde par jour\n",
    "dispo_alim_vegetale_kcal = round(popu_dispo_alim['Disponibilité alimentaire vegetale par pays'].sum())\n",
    "print('la disponibilité végétale par jour dans le monde en 2017 était de', dispo_alim_vegetale_kcal, 'kcal végétale/jour/monde')\n",
    "\n",
    "# Nombre théorique de personnes nourries en 2017 par les aliments végétaux en utilisant 2500kcal par personne en moyenne\n",
    "nombre_theo_personne_nourrie_vegetale = dispo_alim_vegetale_kcal*365/ (2500*365)\n",
    "print('le nombre de personnes qui pouvaient être nourries en 2017 était de ', round(nombre_theo_personne_nourrie_vegetale/1000000,2), 'milliards')\n",
    "\n",
    "# La proportion de personnes pouvant être nourries en 2017 par les aliments végétaux \n",
    "proportion_personnes_nourries_2017_vegetale = round(nombre_theo_personne_nourrie_vegetale *100 / population_2017['Valeur'].sum(),2)\n",
    "print('la proportion de personnes qui pourraient être nourries par les ressources vegetales est de', proportion_personnes_nourries_2017_vegetale, '%')"
   ]
  },
  {
   "cell_type": "markdown",
   "id": "7d42111e",
   "metadata": {},
   "source": [
    "### Ceci est aussi un chiffre sorti de son contexte puisqu'il n'indique pas non plus les différentes proportions d'utilisations des produits végétaux mais il nous donne tout de même une bonne piste pour savoir vers où aller afin de réduire la sous nutrition."
   ]
  },
  {
   "cell_type": "markdown",
   "id": "6faef75d",
   "metadata": {},
   "source": [
    "# Question 4: Utilisation de la disponibilité intérieure et des différentes parts"
   ]
  },
  {
   "cell_type": "code",
   "execution_count": 24,
   "id": "6709524b",
   "metadata": {},
   "outputs": [
    {
     "name": "stdout",
     "output_type": "stream",
     "text": [
      "la part de l_alimentation animale est de 13.24 %\n",
      "la part de l_alimentation humaine est de 49.51 %\n",
      "la part des pertes totales est de 4.61 %\n",
      "la part de la semences est de 1.57 %\n",
      "la part du traitement est de 22.38 %\n",
      "la part des autres  utilisations est de 8.78 %\n"
     ]
    },
    {
     "data": {
      "image/png": "[encoded data removed]",
      "text/plain": [
       "<Figure size 576x576 with 1 Axes>"
      ]
     },
     "metadata": {},
     "output_type": "display_data"
    }
   ],
   "source": [
    "\n",
    "# Chargement du dossier disponibilité alimentaire\n",
    "dispo_alim = pd.read_csv('dispo_alimentaire.csv')\n",
    "\n",
    "# Calcul de la nourriture pour animaux\n",
    "alim_animaux = dispo_alim['Aliments pour animaux'].sum()\n",
    "\n",
    "# Calcul de la disponibilité intérieure totale\n",
    "dispo_interieure = dispo_alim['Disponibilité intérieure'].sum()\n",
    "\n",
    "# Proportion alimentation animale\n",
    "propo_alim_animaux = round(alim_animaux*100/dispo_interieure, 2)\n",
    "print('la part de l_alimentation animale est de',propo_alim_animaux, '%')\n",
    "\n",
    "# Calcul de la part de nourriture\n",
    "nourriture = dispo_alim['Nourriture'].sum()\n",
    "\n",
    "# Proportion de l'alimentation humaine\n",
    "alim_humaine = round(nourriture*100/dispo_interieure, 2)\n",
    "print('la part de l_alimentation humaine est de', alim_humaine, '%')\n",
    "\n",
    "# Calcul des pertes\n",
    "pertes = dispo_alim['Pertes'].sum()\n",
    "\n",
    "# Proportion des pertes\n",
    "propo_pertes = round(pertes*100/dispo_interieure, 2)\n",
    "print('la part des pertes totales est de', propo_pertes, '%')\n",
    "\n",
    "# Calcul des semences\n",
    "semences = dispo_alim['Semences'].sum()\n",
    "\n",
    "# Proportion des semences\n",
    "propo_semences= round(semences*100/dispo_interieure, 2)\n",
    "print('la part de la semences est de',  propo_semences, '%')\n",
    "\n",
    "# Calcul des traitements\n",
    "traitement = dispo_alim['Traitement'].sum()\n",
    "\n",
    "# Proportion des traitements\n",
    "propo_traitement = round(traitement*100/dispo_interieure, 2)\n",
    "print('la part du traitement est de', propo_traitement, '%')\n",
    "\n",
    "# Calcul des autres utilisations\n",
    "autre = dispo_alim['Autres Utilisations'].sum()\n",
    "\n",
    "# Proportion des autres utilisations\n",
    "propo_autre = round(autre*100/dispo_interieure, 2)\n",
    "print('la part des autres  utilisations est de', propo_autre, '%')\n",
    "\n",
    "# Création d'un diagramme circulaire\n",
    "\n",
    "plt.figure(figsize = (8,8))\n",
    "plt.pie(labels = ['Alimentation animale','Semences','Alimentation humaine', 'Pertes', 'Traitement', 'Autre utilisations' ],\n",
    "        x=[13.24,1.57, 49.51, 4.60,  22.38, 8.78],\n",
    "        autopct='%.2f%%')\n",
    "plt.show()"
   ]
  },
  {
   "cell_type": "markdown",
   "id": "201e09e6",
   "metadata": {},
   "source": [
    "### On peut observer que l'alimentation humaine ne représente que la moité de l'utilisation de la disponibilité intérieur . Nous pouvons donc imaginer que nous pourrions procéder à une meilleure optimisation de cette disponibilité par exemple en réduisant la part du traitement pour que cette part aille plus vers l'alimentation humaine."
   ]
  },
  {
   "cell_type": "markdown",
   "id": "07bcdc28",
   "metadata": {},
   "source": [
    "# 2EME PARTIE : QUESTIONS DE MELANIE"
   ]
  },
  {
   "cell_type": "markdown",
   "id": "fe013766",
   "metadata": {},
   "source": [
    "# Question 1: Les pays dont la proportion de personnes sous alimentés est la plus forte"
   ]
  },
  {
   "cell_type": "code",
   "execution_count": 6,
   "id": "3e8f82d9",
   "metadata": {
    "scrolled": true
   },
   "outputs": [
    {
     "data": {
      "text/html": [
       "<div>\n",
       "<style scoped>\n",
       "    .dataframe tbody tr th:only-of-type {\n",
       "        vertical-align: middle;\n",
       "    }\n",
       "\n",
       "    .dataframe tbody tr th {\n",
       "        vertical-align: top;\n",
       "    }\n",
       "\n",
       "    .dataframe thead th {\n",
       "        text-align: right;\n",
       "    }\n",
       "</style>\n",
       "<table border=\"1\" class=\"dataframe\">\n",
       "  <thead>\n",
       "    <tr style=\"text-align: right;\">\n",
       "      <th></th>\n",
       "      <th>Zone</th>\n",
       "      <th>proportion sous nutrition</th>\n",
       "    </tr>\n",
       "  </thead>\n",
       "  <tbody>\n",
       "    <tr>\n",
       "      <th>78</th>\n",
       "      <td>Haïti</td>\n",
       "      <td>48.26</td>\n",
       "    </tr>\n",
       "    <tr>\n",
       "      <th>157</th>\n",
       "      <td>République populaire démocratique de Corée</td>\n",
       "      <td>47.19</td>\n",
       "    </tr>\n",
       "    <tr>\n",
       "      <th>108</th>\n",
       "      <td>Madagascar</td>\n",
       "      <td>41.06</td>\n",
       "    </tr>\n",
       "    <tr>\n",
       "      <th>103</th>\n",
       "      <td>Libéria</td>\n",
       "      <td>38.28</td>\n",
       "    </tr>\n",
       "    <tr>\n",
       "      <th>100</th>\n",
       "      <td>Lesotho</td>\n",
       "      <td>38.25</td>\n",
       "    </tr>\n",
       "    <tr>\n",
       "      <th>183</th>\n",
       "      <td>Tchad</td>\n",
       "      <td>37.96</td>\n",
       "    </tr>\n",
       "    <tr>\n",
       "      <th>161</th>\n",
       "      <td>Rwanda</td>\n",
       "      <td>35.06</td>\n",
       "    </tr>\n",
       "    <tr>\n",
       "      <th>121</th>\n",
       "      <td>Mozambique</td>\n",
       "      <td>32.81</td>\n",
       "    </tr>\n",
       "    <tr>\n",
       "      <th>186</th>\n",
       "      <td>Timor-Leste</td>\n",
       "      <td>32.17</td>\n",
       "    </tr>\n",
       "    <tr>\n",
       "      <th>0</th>\n",
       "      <td>Afghanistan</td>\n",
       "      <td>28.93</td>\n",
       "    </tr>\n",
       "  </tbody>\n",
       "</table>\n",
       "</div>"
      ],
      "text/plain": [
       "                                           Zone  proportion sous nutrition\n",
       "78                                        Haïti                      48.26\n",
       "157  République populaire démocratique de Corée                      47.19\n",
       "108                                  Madagascar                      41.06\n",
       "103                                     Libéria                      38.28\n",
       "100                                     Lesotho                      38.25\n",
       "183                                       Tchad                      37.96\n",
       "161                                      Rwanda                      35.06\n",
       "121                                  Mozambique                      32.81\n",
       "186                                 Timor-Leste                      32.17\n",
       "0                                   Afghanistan                      28.93"
      ]
     },
     "execution_count": 6,
     "metadata": {},
     "output_type": "execute_result"
    }
   ],
   "source": [
    "\n",
    "# On utilise les dossiers sous nutrition et population déjà utilisés dans les questions précédantes\n",
    "\n",
    "# Selection de la population pour 2017\n",
    "population_2017 = population[population['Année']==2017]\n",
    "\n",
    "\n",
    "# Selection des personnes en sous nutrition en 2017 dans chaque pays\n",
    "sous_nutrition_2017 = sous_nutrition.loc[(sous_nutrition['Année'] == '2017'), :]\n",
    "\n",
    "# Groupage du tableau population 2017 et du tableau sous nutrition 2017\n",
    "sous_nutri_popu_2017 = pd.merge(sous_nutrition_2017, population_2017, on = 'Zone')\n",
    "\n",
    "# Creation colonne proportion de sous nutrition par pays \n",
    "sous_nutri_popu_2017['proportion sous nutrition']=round(sous_nutri_popu_2017['Valeur_x']*100000/sous_nutri_popu_2017['Valeur_y'],2)\n",
    "\n",
    "# Les 10 pays ayant la plus forte proportion de personnes en sous nutrition\n",
    "dix_pays_sous_nutri_popu_2017 = sous_nutri_popu_2017.sort_values(by = 'proportion sous nutrition', ascending = False).head(10)\n",
    "dix_pays_sous_nutri_popu_2017 = dix_pays_sous_nutri_popu_2017.drop(columns= ['Année_x','Valeur_x','Année_y','Valeur_y'])\n",
    "dix_pays_sous_nutri_popu_2017\n"
   ]
  },
  {
   "cell_type": "markdown",
   "id": "b703e1fa",
   "metadata": {},
   "source": [
    "### On peut constater que ces pays sont pour la plupart des pays ayant régulièrement soit des problèmes majeurs climatiques comme pour Haïti par exemple où des problèmes majeurs de guerres comme par exemple le Libéira, le Tchad ou encore le Rwanda. Les causes de sous nutrition ne sont donc pas forcément dûes au manque de disponibilité alimentaire mais aussi également à des problèmes contextuels."
   ]
  },
  {
   "cell_type": "markdown",
   "id": "5e9ed4fa",
   "metadata": {},
   "source": [
    "# Question 2: Les pays ayant le plus bénéficié d'aide depuis 2013"
   ]
  },
  {
   "cell_type": "code",
   "execution_count": 7,
   "id": "e52b8fde",
   "metadata": {},
   "outputs": [
    {
     "data": {
      "text/html": [
       "<div>\n",
       "<style scoped>\n",
       "    .dataframe tbody tr th:only-of-type {\n",
       "        vertical-align: middle;\n",
       "    }\n",
       "\n",
       "    .dataframe tbody tr th {\n",
       "        vertical-align: top;\n",
       "    }\n",
       "\n",
       "    .dataframe thead th {\n",
       "        text-align: right;\n",
       "    }\n",
       "</style>\n",
       "<table border=\"1\" class=\"dataframe\">\n",
       "  <thead>\n",
       "    <tr style=\"text-align: right;\">\n",
       "      <th></th>\n",
       "      <th>Valeur</th>\n",
       "    </tr>\n",
       "    <tr>\n",
       "      <th>Pays bénéficiaire</th>\n",
       "      <th></th>\n",
       "    </tr>\n",
       "  </thead>\n",
       "  <tbody>\n",
       "    <tr>\n",
       "      <th>République arabe syrienne</th>\n",
       "      <td>1858943</td>\n",
       "    </tr>\n",
       "    <tr>\n",
       "      <th>Éthiopie</th>\n",
       "      <td>1381294</td>\n",
       "    </tr>\n",
       "    <tr>\n",
       "      <th>Yémen</th>\n",
       "      <td>1206484</td>\n",
       "    </tr>\n",
       "    <tr>\n",
       "      <th>Soudan du Sud</th>\n",
       "      <td>695248</td>\n",
       "    </tr>\n",
       "    <tr>\n",
       "      <th>Soudan</th>\n",
       "      <td>669784</td>\n",
       "    </tr>\n",
       "    <tr>\n",
       "      <th>Kenya</th>\n",
       "      <td>552836</td>\n",
       "    </tr>\n",
       "    <tr>\n",
       "      <th>Bangladesh</th>\n",
       "      <td>348188</td>\n",
       "    </tr>\n",
       "    <tr>\n",
       "      <th>Somalie</th>\n",
       "      <td>292678</td>\n",
       "    </tr>\n",
       "    <tr>\n",
       "      <th>République démocratique du Congo</th>\n",
       "      <td>288502</td>\n",
       "    </tr>\n",
       "    <tr>\n",
       "      <th>Niger</th>\n",
       "      <td>276344</td>\n",
       "    </tr>\n",
       "  </tbody>\n",
       "</table>\n",
       "</div>"
      ],
      "text/plain": [
       "                                   Valeur\n",
       "Pays bénéficiaire                        \n",
       "République arabe syrienne         1858943\n",
       "Éthiopie                          1381294\n",
       "Yémen                             1206484\n",
       "Soudan du Sud                      695248\n",
       "Soudan                             669784\n",
       "Kenya                              552836\n",
       "Bangladesh                         348188\n",
       "Somalie                            292678\n",
       "République démocratique du Congo   288502\n",
       "Niger                              276344"
      ]
     },
     "execution_count": 7,
     "metadata": {},
     "output_type": "execute_result"
    }
   ],
   "source": [
    "\n",
    "# Chargement du dossier aide alimentaire\n",
    "aide_alim = pd.read_csv('aide_alimentaire.csv')\n",
    "\n",
    "# Groupage de l'aide alimentaire par pays\n",
    "aide_alim_pays = aide_alim.groupby('Pays bénéficiaire').sum()\n",
    "\n",
    "# On enlève la colonne Année qui n'est plus utile\n",
    "aide_alim_pays = aide_alim_pays.drop(columns = ['Année'])\n",
    "\n",
    "# Sélection des 10 pays ayant le plus bénéficié d'aide alimentaire en tonnes\n",
    "aide_alim_pays.sort_values(by = 'Valeur', ascending = False).head(10)\n",
    "\n"
   ]
  },
  {
   "cell_type": "markdown",
   "id": "954e7826",
   "metadata": {},
   "source": [
    "### On peut constater que les pays ayant le plus bénéficié d'aide depuis 2013 ne sont pas les même que les pays ayant le plus de personnes en état de sous nutrition. On peut donc se poser la question de savoir comment sont attribué les aides alimentaires (critères, quantités, accessibilités,...etc)."
   ]
  },
  {
   "cell_type": "markdown",
   "id": "5e26c182",
   "metadata": {},
   "source": [
    "# Question 3: Les pays ayant le plus et le moins de disponibilité alimentaire par habitant"
   ]
  },
  {
   "cell_type": "code",
   "execution_count": 8,
   "id": "7216c5e2",
   "metadata": {},
   "outputs": [
    {
     "data": {
      "text/html": [
       "<div>\n",
       "<style scoped>\n",
       "    .dataframe tbody tr th:only-of-type {\n",
       "        vertical-align: middle;\n",
       "    }\n",
       "\n",
       "    .dataframe tbody tr th {\n",
       "        vertical-align: top;\n",
       "    }\n",
       "\n",
       "    .dataframe thead th {\n",
       "        text-align: right;\n",
       "    }\n",
       "</style>\n",
       "<table border=\"1\" class=\"dataframe\">\n",
       "  <thead>\n",
       "    <tr style=\"text-align: right;\">\n",
       "      <th></th>\n",
       "      <th>Zone</th>\n",
       "      <th>Disponibilité alimentaire (Kcal/personne/jour)</th>\n",
       "    </tr>\n",
       "  </thead>\n",
       "  <tbody>\n",
       "    <tr>\n",
       "      <th>166</th>\n",
       "      <td>Égypte</td>\n",
       "      <td>3188.0</td>\n",
       "    </tr>\n",
       "    <tr>\n",
       "      <th>157</th>\n",
       "      <td>Turquie</td>\n",
       "      <td>3141.0</td>\n",
       "    </tr>\n",
       "    <tr>\n",
       "      <th>97</th>\n",
       "      <td>Maroc</td>\n",
       "      <td>3071.0</td>\n",
       "    </tr>\n",
       "    <tr>\n",
       "      <th>155</th>\n",
       "      <td>Tunisie</td>\n",
       "      <td>2971.0</td>\n",
       "    </tr>\n",
       "    <tr>\n",
       "      <th>3</th>\n",
       "      <td>Algérie</td>\n",
       "      <td>2915.0</td>\n",
       "    </tr>\n",
       "    <tr>\n",
       "      <th>42</th>\n",
       "      <td>Cuba</td>\n",
       "      <td>2906.0</td>\n",
       "    </tr>\n",
       "    <tr>\n",
       "      <th>57</th>\n",
       "      <td>Ghana</td>\n",
       "      <td>2874.0</td>\n",
       "    </tr>\n",
       "    <tr>\n",
       "      <th>83</th>\n",
       "      <td>Koweït</td>\n",
       "      <td>2794.0</td>\n",
       "    </tr>\n",
       "    <tr>\n",
       "      <th>74</th>\n",
       "      <td>Israël</td>\n",
       "      <td>2793.0</td>\n",
       "    </tr>\n",
       "    <tr>\n",
       "      <th>70</th>\n",
       "      <td>Iran (République islamique d')</td>\n",
       "      <td>2784.0</td>\n",
       "    </tr>\n",
       "  </tbody>\n",
       "</table>\n",
       "</div>"
      ],
      "text/plain": [
       "                               Zone  \\\n",
       "166                          Égypte   \n",
       "157                         Turquie   \n",
       "97                            Maroc   \n",
       "155                         Tunisie   \n",
       "3                           Algérie   \n",
       "42                             Cuba   \n",
       "57                            Ghana   \n",
       "83                           Koweït   \n",
       "74                           Israël   \n",
       "70   Iran (République islamique d')   \n",
       "\n",
       "     Disponibilité alimentaire (Kcal/personne/jour)  \n",
       "166                                          3188.0  \n",
       "157                                          3141.0  \n",
       "97                                           3071.0  \n",
       "155                                          2971.0  \n",
       "3                                            2915.0  \n",
       "42                                           2906.0  \n",
       "57                                           2874.0  \n",
       "83                                           2794.0  \n",
       "74                                           2793.0  \n",
       "70                                           2784.0  "
      ]
     },
     "execution_count": 8,
     "metadata": {},
     "output_type": "execute_result"
    }
   ],
   "source": [
    "# On utilise le tableau unifié de la population 2017 et de la disponibilité alimentaire utilisé en partie 1 question 3\n",
    " \n",
    "# Les 10 pays ayant le plus de disponibilité alimentaire en 2017\n",
    "\n",
    "pays_plus_dispo = popu_dispo_alim.sort_values(by = \"Disponibilité alimentaire (Kcal/personne/jour)\", ascending = False).head(10)\n",
    "pays_plus_dispo[['Zone',\"Disponibilité alimentaire (Kcal/personne/jour)\"]]\n"
   ]
  },
  {
   "cell_type": "code",
   "execution_count": 22,
   "id": "172f4931",
   "metadata": {},
   "outputs": [
    {
     "data": {
      "image/png": "[encoded data removed]",
      "text/plain": [
       "<Figure size 720x432 with 1 Axes>"
      ]
     },
     "metadata": {
      "needs_background": "light"
     },
     "output_type": "display_data"
    }
   ],
   "source": [
    "# Graphique des 10 pays ayant le plus de disponibilité alimentaire en 2017\n",
    "\n",
    "x = np.arange(10)\n",
    "plt.figure(figsize=(10,6))\n",
    "plt.bar(height=pays_plus_dispo['Disponibilité alimentaire (Kcal/personne/jour)'], x=pays_plus_dispo['Zone'])\n",
    "plt.xticks(rotation=90)\n",
    "plt.ylabel('quantité disponible en kcal/pers/jour',size = 12)\n",
    "plt.xlabel('Pays', size = 12)\n",
    "plt.show()"
   ]
  },
  {
   "cell_type": "code",
   "execution_count": 10,
   "id": "804092b9",
   "metadata": {},
   "outputs": [
    {
     "data": {
      "text/html": [
       "<div>\n",
       "<style scoped>\n",
       "    .dataframe tbody tr th:only-of-type {\n",
       "        vertical-align: middle;\n",
       "    }\n",
       "\n",
       "    .dataframe tbody tr th {\n",
       "        vertical-align: top;\n",
       "    }\n",
       "\n",
       "    .dataframe thead th {\n",
       "        text-align: right;\n",
       "    }\n",
       "</style>\n",
       "<table border=\"1\" class=\"dataframe\">\n",
       "  <thead>\n",
       "    <tr style=\"text-align: right;\">\n",
       "      <th></th>\n",
       "      <th>Zone</th>\n",
       "      <th>Disponibilité alimentaire (Kcal/personne/jour)</th>\n",
       "    </tr>\n",
       "  </thead>\n",
       "  <tbody>\n",
       "    <tr>\n",
       "      <th>6</th>\n",
       "      <td>Antigua-et-Barbuda</td>\n",
       "      <td>1635.0</td>\n",
       "    </tr>\n",
       "    <tr>\n",
       "      <th>127</th>\n",
       "      <td>République centrafricaine</td>\n",
       "      <td>1673.0</td>\n",
       "    </tr>\n",
       "    <tr>\n",
       "      <th>101</th>\n",
       "      <td>Mongolie</td>\n",
       "      <td>1679.0</td>\n",
       "    </tr>\n",
       "    <tr>\n",
       "      <th>168</th>\n",
       "      <td>Équateur</td>\n",
       "      <td>1732.0</td>\n",
       "    </tr>\n",
       "    <tr>\n",
       "      <th>19</th>\n",
       "      <td>Bolivie (État plurinational de)</td>\n",
       "      <td>1790.0</td>\n",
       "    </tr>\n",
       "    <tr>\n",
       "      <th>164</th>\n",
       "      <td>Zambie</td>\n",
       "      <td>1818.0</td>\n",
       "    </tr>\n",
       "    <tr>\n",
       "      <th>136</th>\n",
       "      <td>Sainte-Lucie</td>\n",
       "      <td>1820.0</td>\n",
       "    </tr>\n",
       "    <tr>\n",
       "      <th>134</th>\n",
       "      <td>Saint-Kitts-et-Nevis</td>\n",
       "      <td>1821.0</td>\n",
       "    </tr>\n",
       "    <tr>\n",
       "      <th>143</th>\n",
       "      <td>Soudan</td>\n",
       "      <td>1824.0</td>\n",
       "    </tr>\n",
       "    <tr>\n",
       "      <th>13</th>\n",
       "      <td>Bahamas</td>\n",
       "      <td>1828.0</td>\n",
       "    </tr>\n",
       "  </tbody>\n",
       "</table>\n",
       "</div>"
      ],
      "text/plain": [
       "                                Zone  \\\n",
       "6                 Antigua-et-Barbuda   \n",
       "127        République centrafricaine   \n",
       "101                         Mongolie   \n",
       "168                         Équateur   \n",
       "19   Bolivie (État plurinational de)   \n",
       "164                           Zambie   \n",
       "136                     Sainte-Lucie   \n",
       "134             Saint-Kitts-et-Nevis   \n",
       "143                           Soudan   \n",
       "13                           Bahamas   \n",
       "\n",
       "     Disponibilité alimentaire (Kcal/personne/jour)  \n",
       "6                                            1635.0  \n",
       "127                                          1673.0  \n",
       "101                                          1679.0  \n",
       "168                                          1732.0  \n",
       "19                                           1790.0  \n",
       "164                                          1818.0  \n",
       "136                                          1820.0  \n",
       "134                                          1821.0  \n",
       "143                                          1824.0  \n",
       "13                                           1828.0  "
      ]
     },
     "execution_count": 10,
     "metadata": {},
     "output_type": "execute_result"
    }
   ],
   "source": [
    "# Les 10 pays ayant le moins de disponibilité alimentaire en 2017\n",
    "\n",
    "pays_moins_dispo = popu_dispo_alim.sort_values(by =\"Disponibilité alimentaire (Kcal/personne/jour)\" , ascending = True).head(10)\n",
    "pays_moins_dispo[['Zone',\"Disponibilité alimentaire (Kcal/personne/jour)\"]]"
   ]
  },
  {
   "cell_type": "code",
   "execution_count": 23,
   "id": "3fd2d03d",
   "metadata": {
    "scrolled": false
   },
   "outputs": [
    {
     "data": {
      "image/png": "[encoded data removed]",
      "text/plain": [
       "<Figure size 720x432 with 1 Axes>"
      ]
     },
     "metadata": {
      "needs_background": "light"
     },
     "output_type": "display_data"
    }
   ],
   "source": [
    "# Graphique des 10 pays ayant le moins de disponibilité alimentaire en 2017\n",
    "\n",
    "x = np.arange(10)\n",
    "plt.figure(figsize = (10,6))\n",
    "plt.bar(height=pays_moins_dispo[\"Disponibilité alimentaire (Kcal/personne/jour)\"], x=pays_moins_dispo['Zone'])\n",
    "plt.xticks(rotation=90)\n",
    "plt.ylabel('quantité disponible en kcal/pers/jour',size = 12)\n",
    "plt.xlabel('Pays', size = 12)\n",
    "plt.show()"
   ]
  },
  {
   "cell_type": "markdown",
   "id": "be648661",
   "metadata": {},
   "source": [
    "### On peut donc voir en comparant le pays ayant le plus de disponibilité et celui en ayant le moins que le rapport est du double, ce qui peut nous interroger sur la répartition entre les pays. Pourrait on imaginer qu'avec une meilleure répartition des denrées alimentaires nous pourrions nourrir correctement la plus grande majorité de la population mondiale?"
   ]
  },
  {
   "cell_type": "markdown",
   "id": "609a8b3c",
   "metadata": {},
   "source": [
    "# Question  sur l'alimentation humaine et animale dans les céréales"
   ]
  },
  {
   "cell_type": "code",
   "execution_count": 32,
   "id": "44fa6a36",
   "metadata": {},
   "outputs": [
    {
     "name": "stdout",
     "output_type": "stream",
     "text": [
      "La Proportion d'alimentation animale en 2017 était de : 69.3 %\n",
      "La Proportion d'alimentation humaine en 2017 était de 18.1 %\n",
      "La Proportion de semences en 2017 était de  7.2 %\n",
      "La Proportion de pertes en 2017 était de 2.6 %\n",
      "La Proportion du traitement en 2017 était de 0.4 %\n",
      "La Proportion des autres utilisations en 2017 était de 3.1 %\n"
     ]
    },
    {
     "data": {
      "image/png": "[encoded data removed]",
      "text/plain": [
       "<Figure size 576x576 with 1 Axes>"
      ]
     },
     "metadata": {},
     "output_type": "display_data"
    }
   ],
   "source": [
    "# On definie la liste des céréales\n",
    "liste_cereales = [\"Blé et produits\", \"Riz et produits\", \"Orge et produits\", \"Maïs et produits\", \"Seigle et produits\",\n",
    "                  \"Avoine\", \"Millet et produits\", \"Sorgho et produits\", \"Céréales, Autres\"]\n",
    "\n",
    "# Création d'un tableau ne contenant que les informations des céréales\n",
    "cereales = dispo_alim.loc[dispo_alim['Produit'].isin(liste_cereales),:] \n",
    "\n",
    "# Calcul de la proportion d'alimentation animale\n",
    "print(\"La Proportion d'alimentation animale en 2017 était de :\", \n",
    "      round(cereales['Aliments pour animaux'].sum()*100/cereales['Disponibilité intérieure'].sum(),1), \"%\")\n",
    "\n",
    "# Calcul de la proportion d'alimentation humaine\n",
    "print(\"La Proportion d'alimentation humaine en 2017 était de\", \n",
    "      round(cereales['Nourriture'].sum()*100/cereales['Disponibilité intérieure'].sum(),1), \"%\")\n",
    "\n",
    "# Calcul des autres proportions \n",
    "print(\"La Proportion de semences en 2017 était de \",\n",
    "      round(cereales['Semences'].sum()*100/cereales['Disponibilité intérieure'].sum(),1), \"%\")\n",
    "print(\"La Proportion de pertes en 2017 était de\",\n",
    "      round(cereales['Pertes'].sum()*100/cereales['Disponibilité intérieure'].sum(),1), \"%\")\n",
    "print(\"La Proportion du traitement en 2017 était de\",\n",
    "      round(cereales['Traitement'].sum()*100/cereales['Disponibilité intérieure'].sum(),1), \"%\")\n",
    "print(\"La Proportion des autres utilisations en 2017 était de\",\n",
    "      round(cereales['Autres Utilisations'].sum()*100/cereales['Disponibilité intérieure'].sum(),1), \"%\")\n",
    "\n",
    "\n",
    "# Graphique circulaire\n",
    "plt.figure(figsize = (8,8))\n",
    "plt.pie(labels = ['Alimentation animale','Semences','Alimentation humaine', 'Pertes',  'Autres utilisations','Traitement' ],\n",
    "        x=[69.3,7.2, 18.1, 2.6,  3.1, 0.4],autopct='%.2f%%', shadow = True)\n",
    "plt.show()"
   ]
  },
  {
   "cell_type": "markdown",
   "id": "7ecfe4c6",
   "metadata": {},
   "source": [
    "### On peut constater que la part de l'alimentation humaine est très faible par rapport à l'alimentation animale et donc on pourrait imaginer une meilleur répartition de  cette utilisation des céréales pour nourrir plus de personnes au niveau mondial."
   ]
  },
  {
   "cell_type": "markdown",
   "id": "311a7758",
   "metadata": {},
   "source": [
    "# Question annexe sur la thailande"
   ]
  },
  {
   "cell_type": "code",
   "execution_count": 13,
   "id": "0099aaec",
   "metadata": {},
   "outputs": [
    {
     "data": {
      "text/html": [
       "<div>\n",
       "<style scoped>\n",
       "    .dataframe tbody tr th:only-of-type {\n",
       "        vertical-align: middle;\n",
       "    }\n",
       "\n",
       "    .dataframe tbody tr th {\n",
       "        vertical-align: top;\n",
       "    }\n",
       "\n",
       "    .dataframe thead th {\n",
       "        text-align: right;\n",
       "    }\n",
       "</style>\n",
       "<table border=\"1\" class=\"dataframe\">\n",
       "  <thead>\n",
       "    <tr style=\"text-align: right;\">\n",
       "      <th></th>\n",
       "      <th>Zone</th>\n",
       "      <th>Année_x</th>\n",
       "      <th>Valeur_x</th>\n",
       "      <th>Année_y</th>\n",
       "      <th>Valeur_y</th>\n",
       "      <th>proportion sous nutrition</th>\n",
       "    </tr>\n",
       "  </thead>\n",
       "  <tbody>\n",
       "    <tr>\n",
       "      <th>185</th>\n",
       "      <td>Thaïlande</td>\n",
       "      <td>2017</td>\n",
       "      <td>6.2</td>\n",
       "      <td>2017</td>\n",
       "      <td>69209.81</td>\n",
       "      <td>8.96</td>\n",
       "    </tr>\n",
       "  </tbody>\n",
       "</table>\n",
       "</div>"
      ],
      "text/plain": [
       "          Zone Année_x  Valeur_x  Année_y  Valeur_y  proportion sous nutrition\n",
       "185  Thaïlande    2017       6.2     2017  69209.81                       8.96"
      ]
     },
     "execution_count": 13,
     "metadata": {},
     "output_type": "execute_result"
    }
   ],
   "source": [
    "# On utilise le tableau unifié de la population 2017 et de la sous nutrition utilisé dans la partie 2 question 1\n",
    "\n",
    "# Proportion de personnes en sous nutrition en 2017 en Thailande\n",
    "sous_nutri_popu_2017.loc[(sous_nutri_popu_2017['Zone'] == 'Thaïlande')]\n",
    "taux_sous_nutri_thai = sous_nutri_popu_2017.loc[(sous_nutri_popu_2017['Zone'] == 'Thaïlande')]\n",
    "taux_sous_nutri_thai"
   ]
  },
  {
   "cell_type": "markdown",
   "id": "f41a7bca",
   "metadata": {},
   "source": [
    "### RAPPEL: la proportion mondiale de la sous nutrition calculée dans la  question 1 partie 1 était de 7.09%"
   ]
  },
  {
   "cell_type": "code",
   "execution_count": 33,
   "id": "cb3fa2cb",
   "metadata": {},
   "outputs": [
    {
     "name": "stdout",
     "output_type": "stream",
     "text": [
      "La Proportion d_exportation du Manioc en Thailande en 2017 était de 83.41 %\n"
     ]
    }
   ],
   "source": [
    "# Calcul de de la proportion d'exportation du Manioc en Thailande en 2017 par rapport à la production de celui ci\n",
    "\n",
    "thai_manioc = dispo_alim.loc[(dispo_alim['Produit'] == \"Manioc\") & (dispo_alim['Zone'] == \"Thaïlande\"),:]\n",
    "print('La Proportion d_exportation du Manioc en Thailande en 2017 était de', \n",
    "      round(thai_manioc['Exportations - Quantité'].sum()*100/thai_manioc['Production'].sum(),2), \"%\")\n",
    "                                                                 "
   ]
  },
  {
   "cell_type": "markdown",
   "id": "22cfa0f8",
   "metadata": {},
   "source": [
    "### La Thailande est le 2eme plus gros producteur et exportateur de Manioc dans le monde derrière le Nigéria et pourtant le taux de personnes en sous nutrition est plus élevé que la moyenne et ceci peut être dû au fait qu'ils n'utilisent pas le Manioc dans leur base alimentaire "
   ]
  },
  {
   "cell_type": "markdown",
   "id": "ad9db6b7",
   "metadata": {},
   "source": [
    "# Recherche s'il existe un lien entre une forte proportion de personnes en sous nutrition et un taux d'exportation élevé"
   ]
  },
  {
   "cell_type": "code",
   "execution_count": 15,
   "id": "4d15eed7",
   "metadata": {
    "scrolled": false
   },
   "outputs": [
    {
     "data": {
      "text/html": [
       "<div>\n",
       "<style scoped>\n",
       "    .dataframe tbody tr th:only-of-type {\n",
       "        vertical-align: middle;\n",
       "    }\n",
       "\n",
       "    .dataframe tbody tr th {\n",
       "        vertical-align: top;\n",
       "    }\n",
       "\n",
       "    .dataframe thead th {\n",
       "        text-align: right;\n",
       "    }\n",
       "</style>\n",
       "<table border=\"1\" class=\"dataframe\">\n",
       "  <thead>\n",
       "    <tr style=\"text-align: right;\">\n",
       "      <th></th>\n",
       "      <th>Zone</th>\n",
       "      <th>proportion exportation</th>\n",
       "      <th>proportion sous nutrition</th>\n",
       "    </tr>\n",
       "  </thead>\n",
       "  <tbody>\n",
       "    <tr>\n",
       "      <th>65</th>\n",
       "      <td>Haïti</td>\n",
       "      <td>0.242915</td>\n",
       "      <td>48.26</td>\n",
       "    </tr>\n",
       "    <tr>\n",
       "      <th>132</th>\n",
       "      <td>République populaire démocratique de Corée</td>\n",
       "      <td>0.557946</td>\n",
       "      <td>47.19</td>\n",
       "    </tr>\n",
       "    <tr>\n",
       "      <th>91</th>\n",
       "      <td>Madagascar</td>\n",
       "      <td>1.550999</td>\n",
       "      <td>41.06</td>\n",
       "    </tr>\n",
       "    <tr>\n",
       "      <th>87</th>\n",
       "      <td>Libéria</td>\n",
       "      <td>1.698302</td>\n",
       "      <td>38.28</td>\n",
       "    </tr>\n",
       "    <tr>\n",
       "      <th>84</th>\n",
       "      <td>Lesotho</td>\n",
       "      <td>3.312629</td>\n",
       "      <td>38.25</td>\n",
       "    </tr>\n",
       "    <tr>\n",
       "      <th>150</th>\n",
       "      <td>Tchad</td>\n",
       "      <td>0.000000</td>\n",
       "      <td>37.96</td>\n",
       "    </tr>\n",
       "    <tr>\n",
       "      <th>126</th>\n",
       "      <td>Rwanda</td>\n",
       "      <td>3.292222</td>\n",
       "      <td>35.06</td>\n",
       "    </tr>\n",
       "    <tr>\n",
       "      <th>103</th>\n",
       "      <td>Mozambique</td>\n",
       "      <td>1.902556</td>\n",
       "      <td>32.81</td>\n",
       "    </tr>\n",
       "    <tr>\n",
       "      <th>152</th>\n",
       "      <td>Timor-Leste</td>\n",
       "      <td>5.145414</td>\n",
       "      <td>32.17</td>\n",
       "    </tr>\n",
       "    <tr>\n",
       "      <th>0</th>\n",
       "      <td>Afghanistan</td>\n",
       "      <td>2.056974</td>\n",
       "      <td>28.93</td>\n",
       "    </tr>\n",
       "    <tr>\n",
       "      <th>39</th>\n",
       "      <td>Congo</td>\n",
       "      <td>0.169396</td>\n",
       "      <td>27.39</td>\n",
       "    </tr>\n",
       "    <tr>\n",
       "      <th>161</th>\n",
       "      <td>Venezuela (République bolivarienne du)</td>\n",
       "      <td>0.192028</td>\n",
       "      <td>27.21</td>\n",
       "    </tr>\n",
       "    <tr>\n",
       "      <th>140</th>\n",
       "      <td>Sierra Leone</td>\n",
       "      <td>0.319635</td>\n",
       "      <td>26.71</td>\n",
       "    </tr>\n",
       "    <tr>\n",
       "      <th>133</th>\n",
       "      <td>République-Unie de Tanzanie</td>\n",
       "      <td>3.490566</td>\n",
       "      <td>24.52</td>\n",
       "    </tr>\n",
       "    <tr>\n",
       "      <th>71</th>\n",
       "      <td>Iraq</td>\n",
       "      <td>0.676702</td>\n",
       "      <td>23.97</td>\n",
       "    </tr>\n",
       "    <tr>\n",
       "      <th>80</th>\n",
       "      <td>Kenya</td>\n",
       "      <td>4.222544</td>\n",
       "      <td>23.70</td>\n",
       "    </tr>\n",
       "    <tr>\n",
       "      <th>21</th>\n",
       "      <td>Botswana</td>\n",
       "      <td>5.426975</td>\n",
       "      <td>22.67</td>\n",
       "    </tr>\n",
       "    <tr>\n",
       "      <th>153</th>\n",
       "      <td>Togo</td>\n",
       "      <td>5.714286</td>\n",
       "      <td>20.78</td>\n",
       "    </tr>\n",
       "    <tr>\n",
       "      <th>43</th>\n",
       "      <td>Côte d'Ivoire</td>\n",
       "      <td>13.315661</td>\n",
       "      <td>20.05</td>\n",
       "    </tr>\n",
       "    <tr>\n",
       "      <th>170</th>\n",
       "      <td>Éthiopie</td>\n",
       "      <td>2.137956</td>\n",
       "      <td>19.83</td>\n",
       "    </tr>\n",
       "  </tbody>\n",
       "</table>\n",
       "</div>"
      ],
      "text/plain": [
       "                                           Zone  proportion exportation  \\\n",
       "65                                        Haïti                0.242915   \n",
       "132  République populaire démocratique de Corée                0.557946   \n",
       "91                                   Madagascar                1.550999   \n",
       "87                                      Libéria                1.698302   \n",
       "84                                      Lesotho                3.312629   \n",
       "150                                       Tchad                0.000000   \n",
       "126                                      Rwanda                3.292222   \n",
       "103                                  Mozambique                1.902556   \n",
       "152                                 Timor-Leste                5.145414   \n",
       "0                                   Afghanistan                2.056974   \n",
       "39                                        Congo                0.169396   \n",
       "161      Venezuela (République bolivarienne du)                0.192028   \n",
       "140                                Sierra Leone                0.319635   \n",
       "133                 République-Unie de Tanzanie                3.490566   \n",
       "71                                         Iraq                0.676702   \n",
       "80                                        Kenya                4.222544   \n",
       "21                                     Botswana                5.426975   \n",
       "153                                        Togo                5.714286   \n",
       "43                                Côte d'Ivoire               13.315661   \n",
       "170                                    Éthiopie                2.137956   \n",
       "\n",
       "     proportion sous nutrition  \n",
       "65                       48.26  \n",
       "132                      47.19  \n",
       "91                       41.06  \n",
       "87                       38.28  \n",
       "84                       38.25  \n",
       "150                      37.96  \n",
       "126                      35.06  \n",
       "103                      32.81  \n",
       "152                      32.17  \n",
       "0                        28.93  \n",
       "39                       27.39  \n",
       "161                      27.21  \n",
       "140                      26.71  \n",
       "133                      24.52  \n",
       "71                       23.97  \n",
       "80                       23.70  \n",
       "21                       22.67  \n",
       "153                      20.78  \n",
       "43                       20.05  \n",
       "170                      19.83  "
      ]
     },
     "execution_count": 15,
     "metadata": {},
     "output_type": "execute_result"
    }
   ],
   "source": [
    "# Calcul du taux exportation des pays en fonction de la disponibilité intérieure\n",
    "dispo_alim_pays['proportion exportation'] = dispo_alim_pays['Exportations - Quantité']*100/dispo_alim_pays['Disponibilité intérieure']\n",
    "dispo_alim_pays_export = dispo_alim_pays[['proportion exportation']]\n",
    "\n",
    "# Sélection des colonnes zone et proportion sous nutrition\n",
    "sous_nutrition_popu_2017 = sous_nutri_popu_2017[['Zone','proportion sous nutrition']]\n",
    "\n",
    "# Groupage de deux tableaux entre la disponibilité alimentaire et la sous nutrition\n",
    "sous_nutri_export = pd.merge(dispo_alim_pays_export, sous_nutri_popu_2017, on = 'Zone')\n",
    "\n",
    "# Sélection des colonnes zone, proportion exportation et proportion sous nutrition\n",
    "sous_nutri_export = sous_nutri_export[['Zone','proportion exportation','proportion sous nutrition']]\n",
    "\n",
    "# Sélection des 20 pays dont la proportion de sous nutrition est supérieur à la moyenne de 7.09 et classement descendant\n",
    "sous_nutri_export_propo = sous_nutri_export.loc[(sous_nutri_export['proportion sous nutrition']>=7.1)]\n",
    "sous_nutri_export_propo20 = sous_nutri_export_propo.sort_values(by = 'proportion sous nutrition', ascending = False).head(20)\n",
    "sous_nutri_export_propo20"
   ]
  },
  {
   "cell_type": "code",
   "execution_count": 34,
   "id": "6701a94c",
   "metadata": {
    "scrolled": false
   },
   "outputs": [
    {
     "data": {
      "image/png": "[encoded data removed]",
      "text/plain": [
       "<Figure size 864x720 with 1 Axes>"
      ]
     },
     "metadata": {
      "needs_background": "light"
     },
     "output_type": "display_data"
    }
   ],
   "source": [
    "y1 = sous_nutri_export_propo20['proportion exportation']\n",
    "y2 = sous_nutri_export_propo20['proportion sous nutrition']\n",
    "x = np.arange(20)\n",
    "width = 0.4\n",
    "plt.figure(figsize = (12,10))\n",
    "plt.bar(x-0.2, y1, width, color='blue') \n",
    "plt.bar(x, y2, width, color='orange') \n",
    "plt.xticks(x, ['Haiti', 'Corée','Madagascar','Libéria','Lesotho',\n",
    "               'Tchad','Rwanda','Mozambique','Timor-Leste','Afghanistan','Congo',\n",
    "               'Venezuela','Sierra Leone','Tanzanie','Iraq','Kenya','Botswana','Togo','Côte divoire','Ethiopie']) \n",
    "plt.xticks(rotation=90)\n",
    "plt.xlabel(\"Pays\") \n",
    "plt.ylabel(\"Pourcentages\") \n",
    "plt.show()"
   ]
  },
  {
   "cell_type": "markdown",
   "id": "ebfa9f07",
   "metadata": {},
   "source": [
    "### Conclusion de cette recherche: on ne peut donc pas voir de lien entre taux d'exportation et sous nutrition    car ,à part certaines exeptions , le taux d'exportations des pays les plus en sous nutritions sont très bas "
   ]
  }
 ],
 "metadata": {
  "kernelspec": {
   "display_name": "Python 3 (ipykernel)",
   "language": "python",
   "name": "python3"
  },
  "language_info": {
   "codemirror_mode": {
    "name": "ipython",
    "version": 3
   },
   "file_extension": ".py",
   "mimetype": "text/x-python",
   "name": "python",
   "nbconvert_exporter": "python",
   "pygments_lexer": "ipython3",
   "version": "3.9.13"
  },
  "toc": {
   "base_numbering": 1,
   "nav_menu": {},
   "number_sections": false,
   "sideBar": true,
   "skip_h1_title": false,
   "title_cell": "Table of Contents",
   "title_sidebar": "Contents",
   "toc_cell": false,
   "toc_position": {
    "height": "calc(100% - 180px)",
    "left": "10px",
    "top": "150px",
    "width": "384px"
   },
   "toc_section_display": true,
   "toc_window_display": true
  }
 },
 "nbformat": 4,
 "nbformat_minor": 5
}
